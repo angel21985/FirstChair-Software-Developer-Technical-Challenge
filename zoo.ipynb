{
 "cells": [
  {
   "cell_type": "code",
   "execution_count": 70,
   "metadata": {},
   "outputs": [],
   "source": [
    "class Zoo:\n",
    "    def __init__(self, name, city):\n",
    "        self.name = name\n",
    "        self.city = city\n",
    "        self.operatingHours = 8\n",
    "        self.price = {  'monday' : 19.99,\n",
    "                        'muesday' : 19.99,\n",
    "                        'wednesday' : 9.99,\n",
    "                        'thursday' : 19.99,\n",
    "                        'friday' : 19.99,\n",
    "                        'saturday' : 25.99,\n",
    "                        'sunday' : 25.99 }\n",
    "        self.animals = []\n",
    "    \n",
    "    def getCantAnimals(self):\n",
    "        print( len(self.animals))\n",
    "    \n",
    "    def addAnimal(self, animal):\n",
    "        self.animals.append(animal)\n",
    "    \n",
    "    def removeAnimal(self, animal):\n",
    "        if animal in self.animals:\n",
    "            self.animals.remove(animal)\n",
    "\n",
    "    def getPrice(self, day):\n",
    "        return self.price[day.lower()]\n",
    "    \n",
    "    def getAnimalsDescription(self):\n",
    "        for animal in self.animals:\n",
    "            animal.getDescription()\n",
    "\n",
    "\n",
    "class Animal:\n",
    "    def __init__(self, specie, name, legs, gender):\n",
    "        self.specie = specie\n",
    "        self.name = name\n",
    "        self.legs = legs\n",
    "        self.gender = gender\n",
    "\n",
    "    def getDescription(self):\n",
    "        print(f\"Name: {self.name}\\nSpecie: {self.specie}\\nNumber of Legs: {self.legs}\\nGender: {self.gender}\\n\")\n",
    "\n",
    "    def getName(self):\n",
    "        return self.name\n",
    "        "
   ]
  },
  {
   "cell_type": "code",
   "execution_count": 71,
   "metadata": {},
   "outputs": [],
   "source": [
    "class Giraffe(Animal):\n",
    "    def __init__(self, specie, name, legs, gender, height):\n",
    "        self.specie = specie\n",
    "        self.name = name\n",
    "        self.legs = legs\n",
    "        self.gender = gender        \n",
    "        self.height = height\n",
    "    \n",
    "    def getDescription(self):\n",
    "        print(f\"Name: {self.name}\\nSpecie: {self.specie}\\nNumber of Legs: {self.legs}\\nGender: {self.gender}\\nHeight: {self.height}\\n\")\n",
    "\n",
    "    def getHeight(self):\n",
    "        if self.height > 4.6:\n",
    "            print(f\"The giraffe is male, height: {self.height}\")\n",
    "        else:\n",
    "            print(f\"The giraffe is female, height: {self.height}\")"
   ]
  },
  {
   "cell_type": "code",
   "execution_count": 72,
   "metadata": {},
   "outputs": [],
   "source": [
    "class Crocodile(Animal):\n",
    "    def __init__(self, specie, name, legs, gender, food):\n",
    "        self.specie = specie\n",
    "        self.name = name\n",
    "        self.legs = legs\n",
    "        self.gender = gender        \n",
    "        self.food = food\n",
    "    \n",
    "    def getDescription(self):\n",
    "        print(f\"Name: {self.name}\\nSpecie: {self.specie}\\nNumber of Legs: {self.legs}\\nGender: {self.gender}\\nFavorite Food: {self.food}\\n\")\n",
    "\n",
    "    def getFavoriteFood(self):\n",
    "        return self.food\n"
   ]
  },
  {
   "cell_type": "code",
   "execution_count": 74,
   "metadata": {},
   "outputs": [],
   "source": [
    "class GiantTortoise(Animal):\n",
    "    def __init__(self, specie, name, legs, gender, age):\n",
    "        self.specie = specie\n",
    "        self.name = name\n",
    "        self.legs = legs\n",
    "        self.gender = gender        \n",
    "        self.age = age\n",
    "    \n",
    "    def getDescription(self):\n",
    "        print(f\"Name: {self.name}\\nSpecie: {self.specie}\\nNumber of Legs: {self.legs}\\nGender: {self.gender}\\nAge: {self.age}\\n\")\n",
    "\n",
    "    def getAgeStage(self):\n",
    "        if self.age < 50:\n",
    "            print(\"Young\")\n",
    "        elif self.age >= 50 and self.age < 100:\n",
    "            print(\"Middle-Aged\")\n",
    "        else:\n",
    "            print(\"Old\")"
   ]
  },
  {
   "cell_type": "code",
   "execution_count": 75,
   "metadata": {},
   "outputs": [],
   "source": [
    "madagascar = Zoo(\"Madagascar\", \"Posadas\")"
   ]
  },
  {
   "cell_type": "code",
   "execution_count": 4,
   "metadata": {},
   "outputs": [
    {
     "name": "stdout",
     "output_type": "stream",
     "text": [
      "0\n"
     ]
    }
   ],
   "source": [
    "madagascar.getCantAnimals()"
   ]
  },
  {
   "cell_type": "code",
   "execution_count": 5,
   "metadata": {},
   "outputs": [
    {
     "data": {
      "text/plain": [
       "19.99"
      ]
     },
     "execution_count": 5,
     "metadata": {},
     "output_type": "execute_result"
    }
   ],
   "source": [
    "madagascar.getPrice('monday')"
   ]
  },
  {
   "cell_type": "code",
   "execution_count": 76,
   "metadata": {},
   "outputs": [],
   "source": [
    "alex = Animal(\"Lion\", \"Alex\", 4, \"Male\")\n",
    "gloria = Animal(\"Hippopotamus\", \"Gloria\", 4, \"Female\")\n",
    "melman = Animal(\"Giraffe\", \"Melman\", 4, \"Male\")"
   ]
  },
  {
   "cell_type": "code",
   "execution_count": 77,
   "metadata": {},
   "outputs": [],
   "source": [
    "gira = Giraffe(\"Giraffe\", \"Gira\", 4, \"Female\", 4)"
   ]
  },
  {
   "cell_type": "code",
   "execution_count": 24,
   "metadata": {},
   "outputs": [
    {
     "name": "stdout",
     "output_type": "stream",
     "text": [
      "Name: Gira\n",
      "Specie: Giraffe\n",
      "Number of Legs: 4\n",
      "Gender: Female\n",
      "Height: 4\n",
      "\n"
     ]
    }
   ],
   "source": [
    "gira.getDescription()"
   ]
  },
  {
   "cell_type": "code",
   "execution_count": 18,
   "metadata": {},
   "outputs": [
    {
     "name": "stdout",
     "output_type": "stream",
     "text": [
      "The giraffe is female, height: 4\n"
     ]
    }
   ],
   "source": [
    "gira.getHeight()"
   ]
  },
  {
   "cell_type": "code",
   "execution_count": 78,
   "metadata": {},
   "outputs": [],
   "source": [
    "croco = Crocodile(\"Crocodile\", \"Croco\", 4, \"Male\", \"Bird\")"
   ]
  },
  {
   "cell_type": "code",
   "execution_count": 31,
   "metadata": {},
   "outputs": [
    {
     "name": "stdout",
     "output_type": "stream",
     "text": [
      "Name: Croco\n",
      "Specie: Crocodile\n",
      "Number of Legs: 4\n",
      "Gender: Male\n",
      "Favorite Food: Bird\n",
      "\n"
     ]
    }
   ],
   "source": [
    "croco.getDescription()"
   ]
  },
  {
   "cell_type": "code",
   "execution_count": 32,
   "metadata": {},
   "outputs": [
    {
     "data": {
      "text/plain": [
       "'Bird'"
      ]
     },
     "execution_count": 32,
     "metadata": {},
     "output_type": "execute_result"
    }
   ],
   "source": [
    "croco.getFavoriteFood()"
   ]
  },
  {
   "cell_type": "code",
   "execution_count": 79,
   "metadata": {},
   "outputs": [],
   "source": [
    "tortu = GiantTortoise(\"Giant Tortoise\", \"Tortu\", 4, \"Female\", 27)"
   ]
  },
  {
   "cell_type": "code",
   "execution_count": 37,
   "metadata": {},
   "outputs": [
    {
     "name": "stdout",
     "output_type": "stream",
     "text": [
      "Name: Tortu\n",
      "Specie: Giant Tortoise\n",
      "Number of Legs: 4\n",
      "Gender: Female\n",
      "Age: 27\n",
      "\n"
     ]
    }
   ],
   "source": [
    "tortu.getDescription()"
   ]
  },
  {
   "cell_type": "code",
   "execution_count": 38,
   "metadata": {},
   "outputs": [
    {
     "name": "stdout",
     "output_type": "stream",
     "text": [
      "Young\n"
     ]
    }
   ],
   "source": [
    "tortu.getAgeStage()"
   ]
  },
  {
   "cell_type": "code",
   "execution_count": 7,
   "metadata": {},
   "outputs": [
    {
     "name": "stdout",
     "output_type": "stream",
     "text": [
      "Name: Alex\n",
      "Specie: Lion\n",
      "Number of Legs: 4\n",
      "Gender: Male\n",
      "\n"
     ]
    }
   ],
   "source": [
    "alex.getDescription()"
   ]
  },
  {
   "cell_type": "code",
   "execution_count": 80,
   "metadata": {},
   "outputs": [],
   "source": [
    "madagascar.addAnimal(alex)\n",
    "madagascar.addAnimal(gloria)\n",
    "madagascar.addAnimal(melman)"
   ]
  },
  {
   "cell_type": "code",
   "execution_count": 81,
   "metadata": {},
   "outputs": [],
   "source": [
    "madagascar.addAnimal(gira)"
   ]
  },
  {
   "cell_type": "code",
   "execution_count": 82,
   "metadata": {},
   "outputs": [],
   "source": [
    "madagascar.addAnimal(croco)"
   ]
  },
  {
   "cell_type": "code",
   "execution_count": 83,
   "metadata": {},
   "outputs": [],
   "source": [
    "madagascar.addAnimal(tortu)"
   ]
  },
  {
   "cell_type": "code",
   "execution_count": 84,
   "metadata": {},
   "outputs": [
    {
     "name": "stdout",
     "output_type": "stream",
     "text": [
      "Name: Alex\n",
      "Specie: Lion\n",
      "Number of Legs: 4\n",
      "Gender: Male\n",
      "\n",
      "Name: Gloria\n",
      "Specie: Hippopotamus\n",
      "Number of Legs: 4\n",
      "Gender: Female\n",
      "\n",
      "Name: Melman\n",
      "Specie: Giraffe\n",
      "Number of Legs: 4\n",
      "Gender: Male\n",
      "\n",
      "Name: Gira\n",
      "Specie: Giraffe\n",
      "Number of Legs: 4\n",
      "Gender: Female\n",
      "Height: 4\n",
      "\n",
      "Name: Croco\n",
      "Specie: Crocodile\n",
      "Number of Legs: 4\n",
      "Gender: Male\n",
      "Favorite Food: Bird\n",
      "\n",
      "Name: Tortu\n",
      "Specie: Giant Tortoise\n",
      "Number of Legs: 4\n",
      "Gender: Female\n",
      "Age: 27\n",
      "\n"
     ]
    }
   ],
   "source": [
    "madagascar.getAnimalsDescription()"
   ]
  },
  {
   "cell_type": "code",
   "execution_count": 85,
   "metadata": {},
   "outputs": [],
   "source": [
    "madagascar.removeAnimal(gira)"
   ]
  },
  {
   "cell_type": "code",
   "execution_count": 86,
   "metadata": {},
   "outputs": [
    {
     "name": "stdout",
     "output_type": "stream",
     "text": [
      "Name: Alex\n",
      "Specie: Lion\n",
      "Number of Legs: 4\n",
      "Gender: Male\n",
      "\n",
      "Name: Gloria\n",
      "Specie: Hippopotamus\n",
      "Number of Legs: 4\n",
      "Gender: Female\n",
      "\n",
      "Name: Melman\n",
      "Specie: Giraffe\n",
      "Number of Legs: 4\n",
      "Gender: Male\n",
      "\n",
      "Name: Croco\n",
      "Specie: Crocodile\n",
      "Number of Legs: 4\n",
      "Gender: Male\n",
      "Favorite Food: Bird\n",
      "\n",
      "Name: Tortu\n",
      "Specie: Giant Tortoise\n",
      "Number of Legs: 4\n",
      "Gender: Female\n",
      "Age: 27\n",
      "\n"
     ]
    }
   ],
   "source": [
    "madagascar.getAnimalsDescription()"
   ]
  },
  {
   "cell_type": "code",
   "execution_count": null,
   "metadata": {},
   "outputs": [],
   "source": []
  }
 ],
 "metadata": {
  "kernelspec": {
   "display_name": "Python 3.8.5 64-bit",
   "language": "python",
   "name": "python3"
  },
  "language_info": {
   "codemirror_mode": {
    "name": "ipython",
    "version": 3
   },
   "file_extension": ".py",
   "mimetype": "text/x-python",
   "name": "python",
   "nbconvert_exporter": "python",
   "pygments_lexer": "ipython3",
   "version": "3.8.5"
  },
  "orig_nbformat": 4,
  "vscode": {
   "interpreter": {
    "hash": "aadc960e2afc7ca7a2a72b871e11feb463c930330201b6369ec91ea194824c2e"
   }
  }
 },
 "nbformat": 4,
 "nbformat_minor": 2
}
